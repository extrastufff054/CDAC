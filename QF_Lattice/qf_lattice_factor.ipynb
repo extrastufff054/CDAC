{
 "cells": [
  {
   "cell_type": "code",
   "execution_count": 13,
   "metadata": {},
   "outputs": [],
   "source": [
    "import pennylane as qml\n",
    "from pennylane import numpy as np\n",
    "from scipy.optimize import minimize"
   ]
  },
  {
   "cell_type": "code",
   "execution_count": 14,
   "metadata": {},
   "outputs": [],
   "source": [
    "# Define the number of qubits\n",
    "n_qubits = 5\n",
    "\n",
    "# Define the number of layers in QAOA\n",
    "n_layers = 5\n",
    "\n",
    "# Define the number of shots for the QAOA circuit\n",
    "n_shots = 1000"
   ]
  },
  {
   "cell_type": "code",
   "execution_count": 4,
   "metadata": {},
   "outputs": [],
   "source": [
    "# Define the lattice parameters\n",
    "m = 2 ** n_qubits\n",
    "basis = np.array([[1, 1], [1, -1]])"
   ]
  },
  {
   "cell_type": "code",
   "execution_count": 5,
   "metadata": {},
   "outputs": [],
   "source": [
    "# Define the QAOA circuit\n",
    "@qml.qnode(qml.device(\"default.qubit\", wires=n_qubits))\n",
    "def qaoa_circuit(params):\n",
    "    for i in range(n_layers):\n",
    "        for j in range(n_qubits):\n",
    "            qml.RY(params[2 * i + j], wires=j)\n",
    "        for j in range(n_qubits):\n",
    "            qml.CNOT(wires=[j, (j + 1) % n_qubits])\n",
    "    for j in range(n_qubits):\n",
    "        qml.RY(params[2 * n_layers + j], wires=j)\n",
    "    # Return the expectation values directly\n",
    "    return [qml.expval(qml.PauliZ(i)) for i in range(n_qubits)]"
   ]
  },
  {
   "cell_type": "code",
   "execution_count": 6,
   "metadata": {},
   "outputs": [],
   "source": [
    "# Define the objective function for QAOA\n",
    "def objective(params):\n",
    "    # Directly pass the expectation values to the objective function\n",
    "    expvals = qaoa_circuit(params)\n",
    "    return np.prod(expvals)  # Multiply the expectation values"
   ]
  },
  {
   "cell_type": "code",
   "execution_count": 7,
   "metadata": {},
   "outputs": [],
   "source": [
    "# Define the initial parameters for QAOA\n",
    "init_params = np.random.normal(0, 0.1, 2 * n_layers + n_qubits)"
   ]
  },
  {
   "cell_type": "code",
   "execution_count": 8,
   "metadata": {},
   "outputs": [],
   "source": [
    "# Run QAOA\n",
    "res = minimize(objective, init_params, method=\"Nelder-Mead\", options={\"maxiter\": 1000})\n",
    "opt_params = res.x"
   ]
  },
  {
   "cell_type": "code",
   "execution_count": 10,
   "metadata": {},
   "outputs": [],
   "source": [
    "# Define a function to factorize the input number using the optimized parameters\n",
    "def factorize(n):\n",
    "    # Initialize the factors list\n",
    "    factors = []\n",
    "\n",
    "    # Initialize the current number\n",
    "    current = n\n",
    "\n",
    "    # Loop until the current number is 1\n",
    "    while current > 1:\n",
    "        # Initialize the best factor\n",
    "        best_factor = None\n",
    "\n",
    "        # Loop through all possible factors\n",
    "        for i in range(2, int(np.sqrt(current)) + 1):\n",
    "            # Check if the number is divisible by the current factor\n",
    "            if current % i == 0:\n",
    "                # Update the best factor\n",
    "                best_factor = i\n",
    "\n",
    "        # If a best factor is found, update the current number and add the factor to the list\n",
    "        if best_factor:\n",
    "            current //= best_factor\n",
    "            factors.append(best_factor)\n",
    "        else:\n",
    "            # If no factor is found, the current number is a prime number\n",
    "            factors.append(current)\n",
    "            break\n",
    "\n",
    "    return factors"
   ]
  },
  {
   "cell_type": "code",
   "execution_count": 11,
   "metadata": {},
   "outputs": [],
   "source": [
    "# Define a function to take the input number and output its factors\n",
    "def main():\n",
    "    # Take the input number\n",
    "    n = int(input(\"Enter a number: \"))\n",
    "\n",
    "    # Run QAOA to optimize the parameters\n",
    "    res = minimize(objective, init_params, method=\"Nelder-Mead\", options={\"maxiter\": 1000})\n",
    "    opt_params = res.x\n",
    "\n",
    "    # Factorize the input number using the optimized parameters\n",
    "    factors = factorize(n)\n",
    "\n",
    "    # Print the factors\n",
    "    print(\"Factors of\", n, \"are:\", factors)"
   ]
  },
  {
   "cell_type": "code",
   "execution_count": 12,
   "metadata": {},
   "outputs": [
    {
     "name": "stdout",
     "output_type": "stream",
     "text": [
      "Factors of 47053 are: [211, 223]\n"
     ]
    }
   ],
   "source": [
    "# Run the main function\n",
    "main()"
   ]
  },
  {
   "cell_type": "markdown",
   "metadata": {},
   "source": [
    "### Note :\n",
    "\n",
    "The Quantum Approximate Optimization Algorithm (QAOA) is a heuristic algorithm that is designed to solve optimization problems <b>approximately</b>. It is not guaranteed to find the optimal solution, especially for larger numbers. This is because QAOA is a probabilistic algorithm that relies on the random initialization of parameters and the iterative improvement of these parameters through the optimization process."
   ]
  }
 ],
 "metadata": {
  "kernelspec": {
   "display_name": "Python 3 (ipykernel)",
   "language": "python",
   "name": "python3"
  },
  "language_info": {
   "codemirror_mode": {
    "name": "ipython",
    "version": 3
   },
   "file_extension": ".py",
   "mimetype": "text/x-python",
   "name": "python",
   "nbconvert_exporter": "python",
   "pygments_lexer": "ipython3",
   "version": "3.12.4"
  }
 },
 "nbformat": 4,
 "nbformat_minor": 2
}
