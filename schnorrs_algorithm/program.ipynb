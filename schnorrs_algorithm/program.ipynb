{
 "cells": [
  {
   "cell_type": "code",
   "execution_count": null,
   "metadata": {},
   "outputs": [],
   "source": [
    "from fpylll import IntegerMatrix, SVP\n",
    "import sys"
   ]
  },
  {
   "cell_type": "code",
   "execution_count": null,
   "metadata": {},
   "outputs": [],
   "source": [
    "def svp(B):\n",
    "\tA = IntegerMatrix.from_matrix(B)\n",
    "\treturn SVP.shortest_vector(A)"
   ]
  },
  {
   "cell_type": "code",
   "execution_count": null,
   "metadata": {},
   "outputs": [],
   "source": [
    "def first_primes(n):\n",
    "\tp = 1\n",
    "\tP = []\n",
    "\twhile len(P) < n:\n",
    "\t\tp = next_prime(p)\n",
    "\t\tP += [p]\n",
    "\treturn P"
   ]
  },
  {
   "cell_type": "code",
   "execution_count": null,
   "metadata": {},
   "outputs": [],
   "source": [
    "def is_smooth(x, P):\n",
    "\ty = x\n",
    "\tfor p in P:\n",
    "\t\twhile p.divides(y):\n",
    "\t\t\ty /= p\n",
    "\treturn abs(y) == 1"
   ]
  },
  {
   "cell_type": "code",
   "execution_count": null,
   "metadata": {},
   "outputs": [],
   "source": [
    "# Test if a factoring relation was indeed found.\n",
    "def test_Schnorr(N, n, prec=1000):\n",
    "\tP = first_primes(n)\n",
    "\tf = list(range(1, n+1))\n",
    "\tshuffle(f)\n",
    "\n",
    "\t# Scale up and round\n",
    "\tdef sr(x):\n",
    "\t\treturn round(x * 2^prec)\n",
    "\n",
    "\tdiag = [sr(N*f[i]) for i in range(n)] + [sr(N*ln(N))]\n",
    "\tB = diagonal_matrix(diag, sparse=False)\n",
    "\tfor i in range(n):\n",
    "\t\tB[i, n] = sr(N*ln(P[i]))\n",
    "\n",
    "\n",
    "\tb = svp(B)\n",
    "\te = [b[i] / sr(N*f[i]) for i in range(n)]\n",
    "\n",
    "\tu = 1\n",
    "\tv = 1\n",
    "\tfor i in range(n):\n",
    "\t\tassert e[i] in ZZ\n",
    "\t\tif e[i] > 0:\n",
    "\t\t\tu *= P[i]^e[i]\n",
    "\t\tif e[i] < 0:\n",
    "\t\t\tv *= P[i]^(-e[i])\n",
    "\n",
    "\treturn is_smooth(u - v*N, P) \n",
    "\n",
    "\n"
   ]
  },
  {
   "cell_type": "code",
   "execution_count": null,
   "metadata": {},
   "outputs": [],
   "source": [
    "\n",
    "try:\n",
    "\tbits = int(sys.argv[1])\n",
    "except:\n",
    "\tbits = 400\n",
    "\n",
    "try:\n",
    "\tn = int(sys.argv[2])\n",
    "except:\n",
    "\tn = 47\n",
    "\n",
    "try:\n",
    "\ttrials = int(sys.argv[3])\n",
    "except:\n",
    "\ttrials = 100\n",
    "\n",
    "\n",
    "print(\"Testing Schnorr's relation finding algorithm with n=%d on RSA-moduli of %d bits, %d trials\"%(n, bits, trials))"
   ]
  },
  {
   "cell_type": "code",
   "execution_count": null,
   "metadata": {},
   "outputs": [],
   "source": [
    "successes = 0\n",
    "for i in range(trials):\n",
    "\tp = random_prime(2^(bits/2), false, 2^(bits/2-1))\n",
    "\tq = random_prime(2^(bits/2), false, 2^(bits/2-1))\n",
    "\tN = p*q\n",
    "\tsuccess = test_Schnorr(N, n)\n",
    "\tsuccesses += success\n",
    "\tprint(success, end=\"\\t\")\n",
    "\tsys.stdout.flush()\n",
    "\n",
    "print(\"\\n%d Factoring Relation found out of %d trials\"%(successes, trials))"
   ]
  }
 ],
 "metadata": {
  "kernelspec": {
   "display_name": "Python 3 (ipykernel)",
   "language": "python",
   "name": "python3"
  }
 },
 "nbformat": 4,
 "nbformat_minor": 2
}
